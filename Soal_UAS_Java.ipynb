{
 "cells": [
  {
   "cell_type": "markdown",
   "metadata": {},
   "source": [
    "### SOAL UAS\n",
    "1. Jawablah soal - soal dibawah ini pada baris yang sudah disediakan.\n",
    "2. Jawaban diunggah pada folder github masing - masing mahasiswa dijadikan satu dengan tugas - tugas sesudah UTS \n",
    "3. Dikumpulkan paling lambat 7 Juli 2020 Jam 24.00\n"
   ]
  },
  {
   "cell_type": "code",
   "execution_count": null,
   "metadata": {},
   "outputs": [],
   "source": [
    "Berikut ini adalah contoh pengkodean lambda : \n",
    "(Jika ada kekeliruan dalam syntax silahkan dibetulkan)"
   ]
  },
  {
   "cell_type": "markdown",
   "metadata": {},
   "source": [
    "``` javascript\n",
    "\n",
    "publik clas ContohLambda{\n",
    "\n",
    "    public static void main(){\n",
    "      ContohLambda obj = new ContohLambda();\n",
    "  \n",
    "      //dengan type declaration tanpa kurung kurawal\n",
    "      OperasiPerhitungan penjumlahan = (int a, int b) -> a + b;\n",
    "        \n",
    "       //dengan return statement dan dengan kurung kurawal\n",
    "      OperasiPerhitungan penjumlahan2 = (int a, int b) -> { return a + b; };\n",
    "  \n",
    "   \n",
    "  \n",
    "      system.out.println(\"10 + 5 = \" + obj.operate(10, 5, penjumlahan));\n",
    "      system.out.println(\"10 - 5 = \" + obj.operate(10, 5, penjumlahan2));\n",
    "  \n",
    "      //dengan parenthesis\n",
    "      msgService greetService1 = message -> system.out.println(\"Hello \" + message);\n",
    "  \n",
    "      //tanpa parenthesis\n",
    "      msgService greetService2 = (message) -> System.out.println(\"msg. \" + message);\n",
    "  \n",
    "      greetService1.sayMessage(\"Helloo\");\n",
    "      greetService2.sayMessage(\"Anonim..\");\n",
    "   }\n",
    " \n",
    "   private interface OperasiPerhitungan{\n",
    "      int operation(int a, int b);\n",
    "   }\n",
    " \n",
    "   private interface msgService{\n",
    "      void sayMessage(String message);\n",
    "   }\n",
    " \n",
    "   private int operate(int a, int b, OperasiPerhitungan op){\n",
    "      return op.operation(a, b);\n",
    "   }\n",
    "\n",
    "}\n",
    "\n",
    "``` "
   ]
  },
  {
   "cell_type": "code",
   "execution_count": null,
   "metadata": {},
   "outputs": [],
   "source": [
    "public class ContohLambda{\n",
    "\n",
    "    public static void main(String args[]){\n",
    "      ContohLambdaJava8 obj = new ContohLambdaJava8();\n",
    "  \n",
    "      //dengan type declaration\n",
    "      OperasiPerhitungan penjumlahan = (int a, int b) -> a + b;\n",
    "  \n",
    "      //tanpa type declaration\n",
    "      OperasiPerhitungan pengurangan = (a, b) -> a - b;\n",
    "  \n",
    "      System.out.println(\"10 + 5 = \" + obj.operate(10, 5, penjumlahan));\n",
    "      System.out.println(\"10 - 5 = \" + obj.operate(10, 5, pengurangan));\n",
    "    \n",
    "      //dengan parenthesis\n",
    "      GreetingService greetService1 = message ->System.out.println(\"Hello \" + message);\n",
    "  \n",
    "      //tanpa parenthesis\n",
    "      GreetingService greetService2 = (message)->System.out.println(\"Hello \" + message);\n",
    "  \n",
    "      greetService1.sayMessage(\"Kitty\");\n",
    "      greetService2.sayMessage(\"Pikachu\");\n",
    "   }\n",
    " \n",
    "   private interface OperasiPerhitungan {\n",
    "      int operation(int a, int b);\n",
    "   }\n",
    " \n",
    "   private interface GreetingService {\n",
    "      void sayMessage(String message);\n",
    "   }\n",
    " \n",
    "   private int operate(int a, int b, OperasiPerhitungan op){\n",
    "      return op.operation(a, b);\n",
    "   }\n",
    "\n",
    "}"
   ]
  },
  {
   "cell_type": "markdown",
   "metadata": {},
   "source": [
    "### [Soal 1]\n",
    "\n",
    "Jelaskan mengenai ekspresi lambda dalam pemrograman java? Apa saja yang menjadi karakteristik dari ekspresi tersebut?\n",
    "*(nilai 30)*"
   ]
  },
  {
   "cell_type": "markdown",
   "metadata": {},
   "source": [
    "jawab : Lambda expression digunakan terutama untuk mendefinisikan implementasi dari interface fungsional, yaitu interface dengan satu method saja. Pada contoh di atas, kita telah menggunakan berbagai jenis lambda exspression untuk menentukan method operation interface MathOperation. Kemudian kita telah mendefinisikan implementasi sayMessage dari interface GreetingService.\n",
    "\n",
    "Lambda expression menghilangkan kebutuhan anonymous class dan memberikan kemudahan pemrograman fungsional namun memiliki powerfull yang dapat diandalkan ke java 8.\n",
    "\n",
    "\n"
   ]
  },
  {
   "cell_type": "markdown",
   "metadata": {},
   "source": [
    "### [Soal 2]\n",
    "\n",
    "Implementasikan ekspresi lambda dari kasus UTS bangun datar anda *(nilai 70)*"
   ]
  },
  {
   "cell_type": "code",
   "execution_count": null,
   "metadata": {},
   "outputs": [],
   "source": [
    "public class bola {\n",
    "static int jari = 0;\n",
    "        int r;\n",
    "        int PI;\n",
    "        int volume;\n",
    "        int luas;\n",
    "\n",
    "\n",
    "public bola(int nilai){\n",
    "    this.r = jari;\n",
    "\n",
    "\n",
    "    }\n",
    "public void info(){\n",
    "    System.out.println(\"Jari-Jari           :\" + this.r);\n",
    "    System.out.println(\"volume          :\" + volume);\n",
    "    System.out.println(\"Luas Permukaan  :\" + luas);\n",
    "    System.out.println(\"\");\n",
    "}\n",
    "}"
   ]
  },
  {
   "cell_type": "code",
   "execution_count": null,
   "metadata": {},
   "outputs": [],
   "source": [
    "\n",
    "\n",
    "public class bolaBeraksi {\n",
    "public static void main (String[]args){\n",
    "    double r = 20;\n",
    "    double PI = 3.14;\n",
    "\n",
    "\n",
    "    double volume = (double) ((4*PI*r*r*r)/3);\n",
    "    int volumebulat = (int) volume;\n",
    "    double luas = (double) (4*PI*r*r);\n",
    "    int luasbulat = (int) volume;\n",
    "\n",
    "\n",
    "    System.out.println(\"** Mencari Volume dan Luas Permukaan Bola**\");\n",
    "    System.out.println(\"Jari-Jari : \" + r + \"PI : 3.14\" + PI);\n",
    "    System.out.println(\"Volume Bola         :\" + volume);\n",
    "    System.out.println(\"Hasil Pembulatan    :\" + volumebulat);\n",
    "    System.out.println(\"Luas Permukaan Bola :\" + luas);\n",
    "    System.out.println(\"Hasil Pembulatan    :\" + luasbulat);\n",
    "}\n",
    "}\n",
    "\n"
   ]
  },
  {
   "cell_type": "code",
   "execution_count": null,
   "metadata": {},
   "outputs": [],
   "source": []
  }
 ],
 "metadata": {
  "kernelspec": {
   "display_name": "Java",
   "language": "java",
   "name": "java"
  },
  "language_info": {
   "codemirror_mode": "text/x-java",
   "file_extension": ".java",
   "mimetype": "",
   "name": "Java",
   "nbconverter_exporter": "",
   "version": "1.8.0_221"
  }
 },
 "nbformat": 4,
 "nbformat_minor": 4
}
