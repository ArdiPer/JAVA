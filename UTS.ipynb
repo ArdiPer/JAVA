{
 "cells": [
  {
   "cell_type": "markdown",
   "metadata": {},
   "source": []
  },
  {
   "cell_type": "markdown",
   "metadata": {},
   "source": [
    "### Project UTS SI-S1\n",
    "\n",
    "1. Rancang sebuah *Class* bangun ruang **Bola** dengan kemampuan menghitung Volume dari bangun ruang tersebut.\n",
    "2. Buatlah sebuah aplikasi untuk implementasi class dari *point no 1* dalam jupyter notebook ini\n",
    "3. Lakukan rancang kompunen-kompunen yang dibutuhkan\n",
    "4. Lakukan *Enskapsulasi* dari class pada *point no 1* \n",
    "5. Berikan penjelasan dari kode yang anda buat (dalam notebook tersebut).\n",
    "6. Lakukan Eksekusi / *Run* sebelum upload ke github.\n",
    "\n",
    "• **Upload File Notebook ini** (*.ipynb) ke folder github anda paling lambat pada saat jadwal UTS."
   ]
  },
  {
   "cell_type": "code",
   "execution_count": null,
   "metadata": {},
   "outputs": [],
   "source": [
    "//Jawab"
   ]
  },
  {
   "cell_type": "code",
   "execution_count": null,
   "metadata": {},
   "outputs": [],
   "source": [
    "\n",
    "public class bola {\n",
    "static int jari = 0;\n",
    "        int r;\n",
    "        int PI;\n",
    "        int volume;\n",
    "        int luas;\n",
    "\n",
    "\n",
    "public bola(int nilai){\n",
    "    this.r = jari;\n",
    "\n",
    "\n",
    "    }\n",
    "public void info(){\n",
    "    System.out.println(\"Jari-Jari           :\" + this.r);\n",
    "    System.out.println(\"volume          :\" + volume);\n",
    "    System.out.println(\"Luas Permukaan  :\" + luas);\n",
    "    System.out.println(\"\");\n",
    "}\n",
    "}"
   ]
  },
  {
   "cell_type": "code",
   "execution_count": null,
   "metadata": {},
   "outputs": [],
   "source": [
    "public class bolaBeraksi {\n",
    "public static void main (String[]args){\n",
    "    double r = 20;\n",
    "    double PI = 3.14;\n",
    "\n",
    "\n",
    "    double volume = (double) ((4*PI*r*r*r)/3);\n",
    "    int volumebulat = (int) volume;\n",
    "    double luas = (double) (4*PI*r*r);\n",
    "    int luasbulat = (int) volume;\n",
    "\n",
    "\n",
    "    System.out.println(\"** Mencari Volume dan Luas Permukaan Bola**\");\n",
    "    System.out.println(\"Jari-Jari : \" + r + \"PI : 3.14\" + PI);\n",
    "    System.out.println(\"Volume Bola         :\" + volume);\n",
    "    System.out.println(\"Hasil Pembulatan    :\" + volumebulat);\n",
    "    System.out.println(\"Luas Permukaan Bola :\" + luas);\n",
    "    System.out.println(\"Hasil Pembulatan    :\" + luasbulat);\n",
    "}\n",
    "}"
   ]
  },
  {
   "cell_type": "code",
   "execution_count": null,
   "metadata": {},
   "outputs": [],
   "source": []
  }
 ],
 "metadata": {
  "kernelspec": {
   "display_name": "Java",
   "language": "java",
   "name": "java"
  },
  "language_info": {
   "codemirror_mode": "text/x-java",
   "file_extension": ".java",
   "mimeid": "410",
   "mimetype": "",
   "name": "Java",
   "nbconverter_exporter": "",
   "version": "1.8.0_221"
  }
 },
 "nbformat": 4,
 "nbformat_minor": 4
}
